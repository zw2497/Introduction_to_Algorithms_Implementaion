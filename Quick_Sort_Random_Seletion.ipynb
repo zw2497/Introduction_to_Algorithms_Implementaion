{
  "nbformat": 4,
  "nbformat_minor": 0,
  "metadata": {
    "colab": {
      "name": "Quick_Sort_Random_Seletion.ipynb",
      "version": "0.3.2",
      "provenance": [],
      "toc_visible": true,
      "include_colab_link": true
    },
    "kernelspec": {
      "name": "python3",
      "display_name": "Python 3"
    }
  },
  "cells": [
    {
      "cell_type": "markdown",
      "metadata": {
        "id": "view-in-github",
        "colab_type": "text"
      },
      "source": [
        "<a href=\"https://colab.research.google.com/github/zw2497/Introduction_to_Algorithms_Implementaion/blob/master/Quick_Sort_Random_Seletion.ipynb\" target=\"_parent\"><img src=\"https://colab.research.google.com/assets/colab-badge.svg\" alt=\"Open In Colab\"/></a>"
      ]
    },
    {
      "metadata": {
        "id": "TlGVztXUzFdM",
        "colab_type": "text"
      },
      "cell_type": "markdown",
      "source": [
        "# Quick Sort"
      ]
    },
    {
      "metadata": {
        "id": "pIXFXbNfCSaG",
        "colab_type": "text"
      },
      "cell_type": "markdown",
      "source": [
        "It is convenient to use recursive way to write **Quick Sort**"
      ]
    },
    {
      "metadata": {
        "id": "CjzjFA9-BUjL",
        "colab_type": "code",
        "colab": {}
      },
      "cell_type": "code",
      "source": [
        "import random"
      ],
      "execution_count": 0,
      "outputs": []
    },
    {
      "metadata": {
        "id": "gWaV1fb-y_RB",
        "colab_type": "code",
        "colab": {}
      },
      "cell_type": "code",
      "source": [
        "def Quick_Sort(l):\n",
        "    if len(l) <= 1:\n",
        "        return l\n",
        "    \n",
        "    pivot = random.choice(l)\n",
        "    \n",
        "    left = [i for i in l if i < pivot]\n",
        "    right = [i for i in l if i > pivot]\n",
        "    equal = [i for i in l if i == pivot]\n",
        "    \n",
        "    return Quick_Sort(left) + equal + Quick_Sort(right)"
      ],
      "execution_count": 0,
      "outputs": []
    },
    {
      "metadata": {
        "id": "itvWnCc9CBbM",
        "colab_type": "code",
        "colab": {
          "base_uri": "https://localhost:8080/",
          "height": 34
        },
        "outputId": "3c428626-6bcc-45dd-adbb-ab6977ba7cf0"
      },
      "cell_type": "code",
      "source": [
        "a = [10,9,8,7,6,5,5,5,4,3,2,1]\n",
        "print(Quick_Sort(a))"
      ],
      "execution_count": 19,
      "outputs": [
        {
          "output_type": "stream",
          "text": [
            "[1, 2, 3, 4, 5, 5, 5, 6, 7, 8, 9, 10]\n"
          ],
          "name": "stdout"
        }
      ]
    },
    {
      "metadata": {
        "id": "Ql4eV8U-Ca6t",
        "colab_type": "text"
      },
      "cell_type": "markdown",
      "source": [
        "# Finding the median in O(n log n)"
      ]
    },
    {
      "metadata": {
        "id": "iR0XEyzMCEmD",
        "colab_type": "code",
        "colab": {}
      },
      "cell_type": "code",
      "source": [
        "def find_median_nlogn(l):\n",
        "    l.sort()\n",
        "    \n",
        "    if len(l) % 2 == 0:\n",
        "        mid = len(l) // 2\n",
        "        return (l[mid] + l[mid + 1]) / 2\n",
        "    else:\n",
        "        return l[(len(l) + 1) // 2]"
      ],
      "execution_count": 0,
      "outputs": []
    },
    {
      "metadata": {
        "id": "OVC9KfltCF9j",
        "colab_type": "code",
        "colab": {
          "base_uri": "https://localhost:8080/",
          "height": 34
        },
        "outputId": "fd89e563-5294-4e8c-9d1c-2234e7564bbd"
      },
      "cell_type": "code",
      "source": [
        "a = [10,9,8,7,6,5,5,5,4,3,2,1]\n",
        "print(find_median_nlogn(a))"
      ],
      "execution_count": 41,
      "outputs": [
        {
          "output_type": "stream",
          "text": [
            "5.5\n"
          ],
          "name": "stdout"
        }
      ]
    },
    {
      "metadata": {
        "id": "DFIZjrl5DSoq",
        "colab_type": "text"
      },
      "cell_type": "markdown",
      "source": [
        "# Finding the median in average O(n)"
      ]
    },
    {
      "metadata": {
        "id": "xN3_Wc6aFNiA",
        "colab_type": "text"
      },
      "cell_type": "markdown",
      "source": [
        "## We need a helper function to find top k elements in O(n)\n",
        "k based on 0"
      ]
    },
    {
      "metadata": {
        "id": "_zsyK2G4DJTY",
        "colab_type": "code",
        "colab": {}
      },
      "cell_type": "code",
      "source": [
        "def find_topk(l, k):\n",
        "    if len(l) == 1:\n",
        "        assert k == 0\n",
        "        return l[0]\n",
        "    \n",
        "    pivot = random.choice(l)\n",
        "    \n",
        "    left = [i for i in l if i < pivot]\n",
        "    right = [i for i in l if i > pivot]\n",
        "    equal = [i for i in l if i == pivot]\n",
        "    \n",
        "    if k < len(left):\n",
        "        return find_topk(left, k)\n",
        "    elif k < len(left) + len(equal):\n",
        "        return equal[0]\n",
        "    else:\n",
        "        return find_topk(right, k - len(left) - len(equal))"
      ],
      "execution_count": 0,
      "outputs": []
    },
    {
      "metadata": {
        "id": "-6PRjCDxG7gX",
        "colab_type": "code",
        "colab": {
          "base_uri": "https://localhost:8080/",
          "height": 34
        },
        "outputId": "406f14f3-8d78-48ec-fb0b-d14cb1831ef1"
      },
      "cell_type": "code",
      "source": [
        "a = [10,9,8,7,6,5,4,3,2,1]\n",
        "print(find_topk(a, 8))"
      ],
      "execution_count": 34,
      "outputs": [
        {
          "output_type": "stream",
          "text": [
            "9\n"
          ],
          "name": "stdout"
        }
      ]
    },
    {
      "metadata": {
        "id": "2vBMNBlWHPq9",
        "colab_type": "text"
      },
      "cell_type": "markdown",
      "source": [
        "## Find the median"
      ]
    },
    {
      "metadata": {
        "id": "UdF9S9nMG-on",
        "colab_type": "code",
        "colab": {}
      },
      "cell_type": "code",
      "source": [
        "def find_median(a):\n",
        "    if len(a) % 2 == 0:\n",
        "        mid = len(a) // 2\n",
        "        return (find_topk(a, mid) + find_topk(a, mid - 1)) / 2\n",
        "    else:\n",
        "        return find_topk(a, mid)"
      ],
      "execution_count": 0,
      "outputs": []
    },
    {
      "metadata": {
        "id": "oOuwczNqH6ua",
        "colab_type": "code",
        "colab": {
          "base_uri": "https://localhost:8080/",
          "height": 34
        },
        "outputId": "28842e97-7bbe-4e35-888a-9e93b50b6dd2"
      },
      "cell_type": "code",
      "source": [
        "print(find_median(a))"
      ],
      "execution_count": 38,
      "outputs": [
        {
          "output_type": "stream",
          "text": [
            "5.5\n"
          ],
          "name": "stdout"
        }
      ]
    },
    {
      "metadata": {
        "id": "zUntemK9JBoz",
        "colab_type": "text"
      },
      "cell_type": "markdown",
      "source": [
        "# Finding the median in worse case O(n)\n",
        "The only thing we need to change is the** pivot selection**"
      ]
    },
    {
      "metadata": {
        "id": "Xhclw3aXPOeE",
        "colab_type": "text"
      },
      "cell_type": "markdown",
      "source": [
        "\n",
        "1. Divide the n elements of the input array into b // 5 groups of 5 elements each and at most one group made up of the remaining n mod 5 elements.\n",
        "2. Find the median of each of the dn=5e groups by first insertion-sorting the ele- ments of each group (of which there are at most 5) and then picking the median from the sorted list of group elements.\n",
        "3. Use S E L E C T recursively to find the median x of the dn=5e medians found in step 2. (If there are an even number of medians, then by our convention, x is the lower median.)\n",
        "4. Partition the input array around the median-of-medians x using the modified version of PARTITION. Let k be one more than the number of elements on the low side of the partition, so that x is the kth smallest element and there are n􏰐k elements on the high side of the partition.\n",
        "5. If i D k, then return x. Otherwise, use SELECT recursively to find the ith smallest element on the low side if i < k, or the .i 􏰐 k/th smallest element on the high side if i > k."
      ]
    },
    {
      "metadata": {
        "id": "lxa1DBYzH8-q",
        "colab_type": "code",
        "colab": {}
      },
      "cell_type": "code",
      "source": [
        "def pick_pivot(l):\n",
        "    assert len(l) > 0\n",
        "\n",
        "    # If there are < 5 items, just return the median\n",
        "    if len(l) < 5:\n",
        "        return find_median_nlogn(l)\n",
        "\n",
        "    # First, we'll split `l` into several groups of 5 items. O(n)\n",
        "    chunks = chunk_5(l)\n",
        "\n",
        "    # For simplicity, we can drop any chunks that aren't full. O(n)\n",
        "    full_chunks = [chunk for chunk in chunks if len(chunk) == 5]\n",
        "\n",
        "\n",
        "    # Next, we sort each chunk. Each group is a fixed length, so each sort\n",
        "    # takes constant time\n",
        "    sorted_groups = [sorted(chunk) for chunk in full_chunks]\n",
        "\n",
        "    # The median of each chunk is at index 2\n",
        "    medians = [chunk[2] for chunk in sorted_groups]\n",
        "\n",
        "    median_of_medians = find_median(medians, pick_pivot)\n",
        "    return median_of_medians\n",
        "\n",
        "def chunk_5(l):\n",
        "    return [l[i:i + 5] for i in range(0, len(l), 5)]"
      ],
      "execution_count": 0,
      "outputs": []
    },
    {
      "metadata": {
        "id": "a9Tr4p-jOP7u",
        "colab_type": "code",
        "colab": {}
      },
      "cell_type": "code",
      "source": [
        "def find_median(a, pick_one):\n",
        "    if len(a) % 2 == 0:\n",
        "        mid = len(a) // 2\n",
        "        return (find_topk(a, mid, pick_one) + find_topk(a, mid - 1, pick_one)) / 2\n",
        "    else:\n",
        "        return find_topk(a, mid)"
      ],
      "execution_count": 0,
      "outputs": []
    },
    {
      "metadata": {
        "id": "4nQcCVg4LvNp",
        "colab_type": "code",
        "colab": {}
      },
      "cell_type": "code",
      "source": [
        "def find_topk(l, k, pick_one):\n",
        "    if len(l) == 1:\n",
        "        assert k == 0\n",
        "        return l[0]\n",
        "    \n",
        "    pivot = pick_one(l)\n",
        "    \n",
        "    left = [i for i in l if i < pivot]\n",
        "    right = [i for i in l if i > pivot]\n",
        "    equal = [i for i in l if i == pivot]\n",
        "    \n",
        "    if k < len(left):\n",
        "        return find_topk(left, k)\n",
        "    elif k < len(left) + len(equal):\n",
        "        return equal[0]\n",
        "    else:\n",
        "        return find_topk(right, k - len(left) - len(equal))"
      ],
      "execution_count": 0,
      "outputs": []
    },
    {
      "metadata": {
        "id": "d6DaLk6MQayJ",
        "colab_type": "code",
        "colab": {}
      },
      "cell_type": "code",
      "source": [
        "print(pick_pivot(a))"
      ],
      "execution_count": 0,
      "outputs": []
    },
    {
      "metadata": {
        "id": "Hh2Ou9XoQokI",
        "colab_type": "code",
        "colab": {}
      },
      "cell_type": "code",
      "source": [
        ""
      ],
      "execution_count": 0,
      "outputs": []
    }
  ]
}