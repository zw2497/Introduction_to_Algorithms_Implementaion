{
  "nbformat": 4,
  "nbformat_minor": 0,
  "metadata": {
    "colab": {
      "name": "Quick_Sort_Random_Seletion.ipynb",
      "version": "0.3.2",
      "provenance": [],
      "include_colab_link": true
    },
    "kernelspec": {
      "name": "python3",
      "display_name": "Python 3"
    }
  },
  "cells": [
    {
      "cell_type": "markdown",
      "metadata": {
        "id": "view-in-github",
        "colab_type": "text"
      },
      "source": [
        "<a href=\"https://colab.research.google.com/github/zw2497/Introduction_to_Algorithms_Implementaion/blob/master/Quick_Sort_Random_Seletion.ipynb\" target=\"_parent\"><img src=\"https://colab.research.google.com/assets/colab-badge.svg\" alt=\"Open In Colab\"/></a>"
      ]
    },
    {
      "metadata": {
        "id": "TlGVztXUzFdM",
        "colab_type": "text"
      },
      "cell_type": "markdown",
      "source": [
        "# Quick Sort"
      ]
    },
    {
      "metadata": {
        "id": "pIXFXbNfCSaG",
        "colab_type": "text"
      },
      "cell_type": "markdown",
      "source": [
        "It is convenient to use recursive way to write **Quick Sort**"
      ]
    },
    {
      "metadata": {
        "id": "CjzjFA9-BUjL",
        "colab_type": "code",
        "colab": {}
      },
      "cell_type": "code",
      "source": [
        "import random"
      ],
      "execution_count": 0,
      "outputs": []
    },
    {
      "metadata": {
        "id": "gWaV1fb-y_RB",
        "colab_type": "code",
        "colab": {}
      },
      "cell_type": "code",
      "source": [
        "def Quick_Sort(l):\n",
        "    if len(l) <= 1:\n",
        "        return l\n",
        "    \n",
        "    pivot = random.choice(l)\n",
        "    \n",
        "    left = [i for i in l if i < pivot]\n",
        "    right = [i for i in l if i > pivot]\n",
        "    equal = [i for i in l if i == pivot]\n",
        "    \n",
        "    return Quick_Sort(left) + equal + Quick_Sort(right)"
      ],
      "execution_count": 0,
      "outputs": []
    },
    {
      "metadata": {
        "id": "itvWnCc9CBbM",
        "colab_type": "code",
        "colab": {
          "base_uri": "https://localhost:8080/",
          "height": 34
        },
        "outputId": "3c428626-6bcc-45dd-adbb-ab6977ba7cf0"
      },
      "cell_type": "code",
      "source": [
        "a = [10,9,8,7,6,5,5,5,4,3,2,1]\n",
        "print(Quick_Sort(a))"
      ],
      "execution_count": 19,
      "outputs": [
        {
          "output_type": "stream",
          "text": [
            "[1, 2, 3, 4, 5, 5, 5, 6, 7, 8, 9, 10]\n"
          ],
          "name": "stdout"
        }
      ]
    },
    {
      "metadata": {
        "id": "Ql4eV8U-Ca6t",
        "colab_type": "text"
      },
      "cell_type": "markdown",
      "source": [
        "# Finding the median in O(n log n)"
      ]
    },
    {
      "metadata": {
        "id": "iR0XEyzMCEmD",
        "colab_type": "code",
        "colab": {}
      },
      "cell_type": "code",
      "source": [
        "def find_median(l):\n",
        "    l.sort()\n",
        "    \n",
        "    if len(l) % 2 == 0:\n",
        "        mid = len(l) // 2\n",
        "        return (l[mid] + l[mid + 1]) / 2\n",
        "    else:\n",
        "        return l[(len(l) + 1) // 2]"
      ],
      "execution_count": 0,
      "outputs": []
    },
    {
      "metadata": {
        "id": "OVC9KfltCF9j",
        "colab_type": "code",
        "colab": {
          "base_uri": "https://localhost:8080/",
          "height": 34
        },
        "outputId": "8e10b50f-dee4-4125-8869-792d50ca0775"
      },
      "cell_type": "code",
      "source": [
        "a = [10,9,8,7,6,5,5,5,4,3,2,1]\n",
        "print(find_median(a))"
      ],
      "execution_count": 17,
      "outputs": [
        {
          "output_type": "stream",
          "text": [
            "5.5\n"
          ],
          "name": "stdout"
        }
      ]
    },
    {
      "metadata": {
        "id": "DFIZjrl5DSoq",
        "colab_type": "text"
      },
      "cell_type": "markdown",
      "source": [
        "# Finding the median in average O(n)"
      ]
    },
    {
      "metadata": {
        "id": "xN3_Wc6aFNiA",
        "colab_type": "text"
      },
      "cell_type": "markdown",
      "source": [
        "## We need a helper function to find top k elements in O(n)\n",
        "k based on 0"
      ]
    },
    {
      "metadata": {
        "id": "_zsyK2G4DJTY",
        "colab_type": "code",
        "colab": {}
      },
      "cell_type": "code",
      "source": [
        "def find_topk(l, k):\n",
        "    if len(l) == 1:\n",
        "        assert k == 0\n",
        "        return l[0]\n",
        "    \n",
        "    pivot = random.choice(l)\n",
        "    \n",
        "    left = [i for i in l if i < pivot]\n",
        "    right = [i for i in l if i > pivot]\n",
        "    equal = [i for i in l if i == pivot]\n",
        "    \n",
        "    if k < len(left):\n",
        "        return find_topk(left, k)\n",
        "    elif k < len(left) + len(equal):\n",
        "        return equal[0]\n",
        "    else:\n",
        "        return find_topk(right, k - len(left) - len(equal))"
      ],
      "execution_count": 0,
      "outputs": []
    },
    {
      "metadata": {
        "id": "-6PRjCDxG7gX",
        "colab_type": "code",
        "colab": {
          "base_uri": "https://localhost:8080/",
          "height": 34
        },
        "outputId": "406f14f3-8d78-48ec-fb0b-d14cb1831ef1"
      },
      "cell_type": "code",
      "source": [
        "a = [10,9,8,7,6,5,4,3,2,1]\n",
        "print(find_topk(a, 8))"
      ],
      "execution_count": 34,
      "outputs": [
        {
          "output_type": "stream",
          "text": [
            "9\n"
          ],
          "name": "stdout"
        }
      ]
    },
    {
      "metadata": {
        "id": "2vBMNBlWHPq9",
        "colab_type": "text"
      },
      "cell_type": "markdown",
      "source": [
        "## Find the median"
      ]
    },
    {
      "metadata": {
        "id": "UdF9S9nMG-on",
        "colab_type": "code",
        "colab": {}
      },
      "cell_type": "code",
      "source": [
        "def find_median(a):\n",
        "    if len(a) % 2 == 0:\n",
        "        mid = len(a) // 2\n",
        "        return (find_topk(a, mid) + find_topk(a, mid - 1)) / 2\n",
        "    else:\n",
        "        return find_topk(a, mid)"
      ],
      "execution_count": 0,
      "outputs": []
    },
    {
      "metadata": {
        "id": "oOuwczNqH6ua",
        "colab_type": "code",
        "colab": {
          "base_uri": "https://localhost:8080/",
          "height": 34
        },
        "outputId": "28842e97-7bbe-4e35-888a-9e93b50b6dd2"
      },
      "cell_type": "code",
      "source": [
        "print(find_median(a))"
      ],
      "execution_count": 38,
      "outputs": [
        {
          "output_type": "stream",
          "text": [
            "5.5\n"
          ],
          "name": "stdout"
        }
      ]
    },
    {
      "metadata": {
        "id": "zUntemK9JBoz",
        "colab_type": "text"
      },
      "cell_type": "markdown",
      "source": [
        "# Finding the median in worse case O(n)\n",
        "The only thing we need to change is the pivot selection"
      ]
    },
    {
      "metadata": {
        "id": "lxa1DBYzH8-q",
        "colab_type": "code",
        "colab": {}
      },
      "cell_type": "code",
      "source": [
        ""
      ],
      "execution_count": 0,
      "outputs": []
    }
  ]
}